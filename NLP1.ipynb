{
 "cells": [
  {
   "cell_type": "code",
   "execution_count": 1,
   "metadata": {},
   "outputs": [
    {
     "name": "stderr",
     "output_type": "stream",
     "text": [
      "[nltk_data] Downloading package averaged_perceptron_tagger_ru to\n",
      "[nltk_data]     C:\\Users\\Масленок\\AppData\\Roaming\\nltk_data...\n",
      "[nltk_data]   Unzipping taggers\\averaged_perceptron_tagger_ru.zip.\n",
      "[nltk_data] Downloading package stopwords to\n",
      "[nltk_data]     C:\\Users\\Масленок\\AppData\\Roaming\\nltk_data...\n",
      "[nltk_data]   Package stopwords is already up-to-date!\n",
      "[nltk_data] Downloading package punkt to\n",
      "[nltk_data]     C:\\Users\\Масленок\\AppData\\Roaming\\nltk_data...\n",
      "[nltk_data]   Unzipping tokenizers\\punkt.zip.\n"
     ]
    }
   ],
   "source": [
    "import sqlite3\n",
    "import pandas as pd\n",
    "import nltk\n",
    "from natasha import (\n",
    "    Segmenter,\n",
    "    MorphVocab,\n",
    "    NewsEmbedding,\n",
    "    NewsMorphTagger,\n",
    "    NewsSyntaxParser,\n",
    "    NewsNERTagger,\n",
    "    PER,\n",
    "    NamesExtractor,\n",
    "    Doc\n",
    ")\n",
    "segmenter = Segmenter()\n",
    "morph_vocab = MorphVocab()\n",
    "\n",
    "emb = NewsEmbedding()\n",
    "morph_tagger = NewsMorphTagger(emb)\n",
    "syntax_parser = NewsSyntaxParser(emb)\n",
    "ner_tagger = NewsNERTagger(emb)\n",
    "\n",
    "names_extractor = NamesExtractor(morph_vocab)\n",
    "\n",
    "nltk.download(['averaged_perceptron_tagger_ru', 'stopwords', 'punkt'])\n",
    "    \n",
    "import matplotlib.pyplot as plt"
   ]
  },
  {
   "cell_type": "code",
   "execution_count": 5,
   "metadata": {},
   "outputs": [
    {
     "data": {
      "text/html": [
       "<div>\n",
       "<style scoped>\n",
       "    .dataframe tbody tr th:only-of-type {\n",
       "        vertical-align: middle;\n",
       "    }\n",
       "\n",
       "    .dataframe tbody tr th {\n",
       "        vertical-align: top;\n",
       "    }\n",
       "\n",
       "    .dataframe thead th {\n",
       "        text-align: right;\n",
       "    }\n",
       "</style>\n",
       "<table border=\"1\" class=\"dataframe\">\n",
       "  <thead>\n",
       "    <tr style=\"text-align: right;\">\n",
       "      <th></th>\n",
       "      <th>title</th>\n",
       "      <th>content</th>\n",
       "      <th>category</th>\n",
       "      <th>created_date</th>\n",
       "    </tr>\n",
       "  </thead>\n",
       "  <tbody>\n",
       "    <tr>\n",
       "      <th>0</th>\n",
       "      <td>«Полис недоступности» и «красные зоны»: Правит...</td>\n",
       "      <td>Во Владивостоке прошло совещание, посвящённое ...</td>\n",
       "      <td>Политика;Экономика</td>\n",
       "      <td>22.Мар.2023</td>\n",
       "    </tr>\n",
       "    <tr>\n",
       "      <th>1</th>\n",
       "      <td>Лишение депутатских полномочий случилось на Ка...</td>\n",
       "      <td>…И случилось не само по себе, а по иску прокур...</td>\n",
       "      <td>Закон;Политика</td>\n",
       "      <td>21.Мар.2024</td>\n",
       "    </tr>\n",
       "    <tr>\n",
       "      <th>2</th>\n",
       "      <td>В районе улицы Толстого реконструкция дороги и...</td>\n",
       "      <td>Во Владивостоке активно продолжается политика ...</td>\n",
       "      <td>Политика;Репортаж</td>\n",
       "      <td>26.Май.2023</td>\n",
       "    </tr>\n",
       "    <tr>\n",
       "      <th>3</th>\n",
       "      <td>Владивостокская таможня – не место для заторов</td>\n",
       "      <td>О двукратном уменьшении количества досмотров к...</td>\n",
       "      <td>Политика;Экономика</td>\n",
       "      <td>24.Мар.2023</td>\n",
       "    </tr>\n",
       "    <tr>\n",
       "      <th>4</th>\n",
       "      <td>Глава Приморья освободил от должности руководи...</td>\n",
       "      <td>Директора филиалов «Надеждинский» и «Хасанский...</td>\n",
       "      <td>Политика;Экономика</td>\n",
       "      <td>07.Авг.2023</td>\n",
       "    </tr>\n",
       "    <tr>\n",
       "      <th>...</th>\n",
       "      <td>...</td>\n",
       "      <td>...</td>\n",
       "      <td>...</td>\n",
       "      <td>...</td>\n",
       "    </tr>\n",
       "    <tr>\n",
       "      <th>58</th>\n",
       "      <td>Работница КГБУЗ “Красноармейская ЦРБ” восстано...</td>\n",
       "      <td></td>\n",
       "      <td>Политика;Экономика</td>\n",
       "      <td>15.Окт.2022</td>\n",
       "    </tr>\n",
       "    <tr>\n",
       "      <th>59</th>\n",
       "      <td>«Битва» за 392 млн рублей «лесных» денег в При...</td>\n",
       "      <td>09 ноября 2022 года состоялось очередное засед...</td>\n",
       "      <td>Политика;Экономика</td>\n",
       "      <td>14.Ноя.2022</td>\n",
       "    </tr>\n",
       "    <tr>\n",
       "      <th>60</th>\n",
       "      <td>Инжиниринговая «перепутаница» не «по-Чуковском...</td>\n",
       "      <td>В январе 2014 года во Владивостоке появилась к...</td>\n",
       "      <td>Политика;Экономика</td>\n",
       "      <td>27.Окт.2022</td>\n",
       "    </tr>\n",
       "    <tr>\n",
       "      <th>61</th>\n",
       "      <td>На Дальнем Востоке выявили 52 «чёрных кредитор...</td>\n",
       "      <td>За девять месяцев 2022 года Банк России выявил...</td>\n",
       "      <td>Политика;Экономика</td>\n",
       "      <td>07.Ноя.2022</td>\n",
       "    </tr>\n",
       "    <tr>\n",
       "      <th>62</th>\n",
       "      <td>Очередное заседание Уссурийского местного отде...</td>\n",
       "      <td></td>\n",
       "      <td>Политика;Экономика</td>\n",
       "      <td>02.Ноя.2022</td>\n",
       "    </tr>\n",
       "  </tbody>\n",
       "</table>\n",
       "<p>63 rows × 4 columns</p>\n",
       "</div>"
      ],
      "text/plain": [
       "                                                title  \\\n",
       "0   «Полис недоступности» и «красные зоны»: Правит...   \n",
       "1   Лишение депутатских полномочий случилось на Ка...   \n",
       "2   В районе улицы Толстого реконструкция дороги и...   \n",
       "3      Владивостокская таможня – не место для заторов   \n",
       "4   Глава Приморья освободил от должности руководи...   \n",
       "..                                                ...   \n",
       "58  Работница КГБУЗ “Красноармейская ЦРБ” восстано...   \n",
       "59  «Битва» за 392 млн рублей «лесных» денег в При...   \n",
       "60  Инжиниринговая «перепутаница» не «по-Чуковском...   \n",
       "61  На Дальнем Востоке выявили 52 «чёрных кредитор...   \n",
       "62  Очередное заседание Уссурийского местного отде...   \n",
       "\n",
       "                                              content            category  \\\n",
       "0   Во Владивостоке прошло совещание, посвящённое ...  Политика;Экономика   \n",
       "1   …И случилось не само по себе, а по иску прокур...      Закон;Политика   \n",
       "2   Во Владивостоке активно продолжается политика ...   Политика;Репортаж   \n",
       "3   О двукратном уменьшении количества досмотров к...  Политика;Экономика   \n",
       "4   Директора филиалов «Надеждинский» и «Хасанский...  Политика;Экономика   \n",
       "..                                                ...                 ...   \n",
       "58                                                     Политика;Экономика   \n",
       "59  09 ноября 2022 года состоялось очередное засед...  Политика;Экономика   \n",
       "60  В январе 2014 года во Владивостоке появилась к...  Политика;Экономика   \n",
       "61  За девять месяцев 2022 года Банк России выявил...  Политика;Экономика   \n",
       "62                                                     Политика;Экономика   \n",
       "\n",
       "   created_date  \n",
       "0   22.Мар.2023  \n",
       "1   21.Мар.2024  \n",
       "2   26.Май.2023  \n",
       "3   24.Мар.2023  \n",
       "4   07.Авг.2023  \n",
       "..          ...  \n",
       "58  15.Окт.2022  \n",
       "59  14.Ноя.2022  \n",
       "60  27.Окт.2022  \n",
       "61  07.Ноя.2022  \n",
       "62  02.Ноя.2022  \n",
       "\n",
       "[63 rows x 4 columns]"
      ]
     },
     "execution_count": 5,
     "metadata": {},
     "output_type": "execute_result"
    }
   ],
   "source": [
    "cur = sqlite3.connect('golden.db')\n",
    "df = pd.read_sql_query('SELECT * FROM golden', cur)\n",
    "cur.close()\n",
    "df"
   ]
  },
  {
   "cell_type": "markdown",
   "metadata": {},
   "source": [
    "# Подготовка данных"
   ]
  },
  {
   "cell_type": "code",
   "execution_count": 6,
   "metadata": {},
   "outputs": [
    {
     "data": {
      "text/plain": [
       "['Во Владивостоке прошло совещание, посвящённое транспортным проблемам, под председательством вице-губернатора Николая Стецко. Главным вопросом стало нахождение Приморского края в так называемой «красной зоне», куда Российский союз автостраховщиков (РСА) включает регионы, если в них зафиксирован рост ДТП и большие суммы взысканий за ущерб по полисам обязательного страхования автогражданской ответственности (ОСАГО). Из-за того, что регион (в нашем случае это Приморский край) внесён в «красную зону», страховые компании могут уйти из региона, что и приводит к тому, что вот уже около 5 лет автовладельцам Приморья достаточно трудно приобрести полис ОСАГО. При попытке сделать этой онлайн система показывает сбой, а при попытке купить полис через страховую компанию возникает «накрутка» за услуги посредников 1,5-2 тысячи рублей, но даже этот вариант не всегда даёт возможность своевременно приобрести полис «автогражданки». Страдают от этой ситуации как простые граждане, так и представители бизнеса – транспортные компании и фирмы такси.Так, например, председатель транспортного комитета приморского краевого отделения «ОПОРЫ РОССИИ» Пётр Берг неоднократно письменно обращался во все инстанции с вопросом о том, насколько законно внесение целого региона в «красную зону» (и главное – на основании чего?) влияет на невозможность получить полис? Ведь полис является обязательным, и ездить без него нельзя. Но обязательным он является для автовладельцев, а вот для автостраховщиков, видимо, обязательным он не является. Большую работу в борьбе с «полисами недоступности» проделал и Роман Балашов – тоже член «ОПОРЫ РОССИИ», председатель Уссурийского местного отделения «ОПОРЫ РОССИИ», который на протяжении нескольких лет на уровне краевых властей поднимал вопрос о недоступности полисов ОСАГО из-за нахождение региона в «красной зоне».И вот, похоже, что вопрос сдвинулся с места. Правительство Приморского края намерено обратиться в Центробанк России (именно эта структура надзирает за деятельность автостраховщиков во всей стране), чтобы были приняты меры по свободному доступу автолюбителей к покупке полисов ОСАГО как в режиме «онлайн», так и в «оффлайне», то есть, в самих офисах страховых компаний.А теперь ещё о «красной зоне». Действительно, в Приморье имеет место быть бизнес, когда вместе с аварийными комиссарами на место ДТП приезжают «скупщики долгов», которые выплачивают одной стороне ущерб на месте, а потом обращаются в суд и взыскивают со страховых компаний более крупные суммы денег. Естественно, страховые компании знают о разнице между тем, что фактически выплачено автовладельцу и что потом получают так называемые «автоюристы». Но, как ни крути, этот бизнес по «скупке ущерба» полностью легален, хотя и создаёт ненужную нагрузку на суды. Бывает так (статистику легко посмотреть на сайте Фрунзенского или Ленинского районных судов Владивостока), что один и тот же «автоюрист» с интервалом буквально в 5 минут участвует в 10 делах подряд с интервалом в 5 минут. Страховым компаниям это неприятно, но рядовые автовладельцы тут причём?Надеемся, что ситуация с полисами ОСАГО в Приморье действительно улучшится.']"
      ]
     },
     "execution_count": 6,
     "metadata": {},
     "output_type": "execute_result"
    }
   ],
   "source": [
    "data = list(df['content'])\n",
    "data[:1]"
   ]
  },
  {
   "cell_type": "code",
   "execution_count": 7,
   "metadata": {},
   "outputs": [
    {
     "data": {
      "text/plain": [
       "'…И случилось само , иску прокуратуры Тигильского района , которая провела проверку исполнения законодательства противодействии коррупции. Об сообщил Telegram-канал надзорного ведомства Камчатского края.Так , результате проверки выяснилось , « депутат Собрания депутатов муниципального образования « Тигильский муниципальный район » рассмотрении очередной сессии вопроса размерах оплаты труда муниципальных служащих , число которых руководящей должности входила её близкая родственница , мер самоотводу приняла , голосовала общем порядке ».Этот факт побудил прокуратуру внести орган местного самоуправления представление. Но оно отклонено : депутаты сочли , нарушения антикоррупционного законодательства имелось. Что касается « героини » скандальной истории , сама подала заявление добровольном сложении полномочий , отставка принята.Но тут-то : прокурор , согласившись представительным органом местного самоуправления , обратился суд заявлением – , признать факт бездействия районного Собрания депутатов незаконным , также принять меры устранению нарушений.Доводы прокуратуры Тигильского районного суда оказались убедительными , иск удовлетворён. Однако данном событии история завершилась. Ибо ответчики ( числе сама экс-депутат ) « обжаловали судебный акт апелляционном порядке ».Окончательное решение принял Камчатский краевой суд итогам рассмотрения жалоб. Он признал , требования прокурора являются обоснованными мотивированными , принял решение прекращении полномочий выборного лица связи утратой доверия.Решение суда вступило законную силу.'"
      ]
     },
     "execution_count": 7,
     "metadata": {},
     "output_type": "execute_result"
    }
   ],
   "source": [
    "for text in range(len(data)):\n",
    "        data[text] = ' '.join([token for token in nltk.word_tokenize(data[text]) if token not in nltk.corpus.stopwords.words('russian')]).replace(' .', '.')\n",
    "data[1]"
   ]
  },
  {
   "cell_type": "code",
   "execution_count": 8,
   "metadata": {},
   "outputs": [
    {
     "name": "stdout",
     "output_type": "stream",
     "text": [
      "      ┌──► О               case\n",
      "      │ ┌► двукратном      amod\n",
      "┌────►└─└─ уменьшении      obl\n",
      "│   ┌─└──► количества      nmod\n",
      "│   │   ┌► досмотров       amod\n",
      "│ ┌─└──►└─ контейнеров     nmod\n",
      "│ │     ┌► Владивостокской amod\n",
      "│ └────►└─ таможне         nmod\n",
      "│       ┌► полуторакратном amod\n",
      "│   ┌►┌─└─ сокращении      obl\n",
      "│   │ └►┌─ срока           nmod\n",
      "│   │ ┌─└► проведения      nmod\n",
      "│   │ └──► досмотра        nmod\n",
      "└─┌─└───┌─ сообщил         \n",
      "  │   ┌─└► Telegram-канал  nsubj\n",
      "  │   └►┌─ ФТС             nmod\n",
      "  │     └► России          nmod\n",
      "  └──────► .               punct\n",
      "                                                              ┌──► По                       case\n",
      "                                                              │ ┌► этим                     det\n",
      "                                                        ┌────►└─└─ данным                   parataxis\n",
      "                                                        │     └──► ,                        punct\n",
      "        ┌──────►┌───────────────────────────────────────│       ┌─ время                    nsubj:pass\n",
      "        │       │                                       │     ┌─└► проведения               nmod\n",
      "        │       │                                       │     │ ┌► таможенного              amod\n",
      "  ┌─────│       │                                       │     └►└─ досмотра                 nmod\n",
      "┌─│     │       │         ┌───────────────────────────┌─│   ┌───── составляет               \n",
      "│ │     │       │         │                           │ │   │   ┌► примерно                 advmod\n",
      "│ │     │       │         │                           │ │   │ ┌►└─ трое                     nummod:gov\n",
      "│ │     │       │         │                           │ │   └►└─── суток                    obj\n",
      "│ │     │       │         │                           │ │ ┌──────► .                        punct\n",
      "│ │     │       │         │                           │ │ │ ┌────► Дело                     nsubj\n",
      "│ │     │ ┌────►│         │                           │ │ │ │      ,                        punct\n",
      "│ │     │ │     │         │                           │ │ │ │   ┌► последнее                amod\n",
      "│ │     │ │     │ ┌──────►│                           │ │ │ │   └─ время                    obl\n",
      "│ │     │ │     │ │       │                           │ │ │ │      осуществлена             \n",
      "│ │     │ │     │ │       │                           │ │ │ │   ┌► перенастроена            amod\n",
      "│ │     │ │     │ │     ┌►│                           │ │ │ │ ┌─└─ система                  nsubj:pass\n",
      "│ │     │ │     │ │     │ │                           │ │ │ │ └►┌─ управления               nmod\n",
      "│ │     │ │     │ │     │ │                           │ │ │ │   └► рисками                  nmod\n",
      "│ │     │ │ ┌──►│ │     │ │                           │ │ │ │      ,                        punct\n",
      "│ │ ┌───│ │ │ ┌─│ │   ┌─│ │                           │ └─└─└───┌─ удалось                  \n",
      "│ │ │ ┌─│ │ │ │ │ │   │ │ │                           │     ┌───└► сократить                csubj\n",
      "│ │ │ │ │ │ │ │ │ │   │ │ │                           │     │ ┌──► неэффективные            amod\n",
      "│ │ │ │ │ │ │ │ │ │   │ │ │                           │     │ │ ┌► избыточные               amod\n",
      "│ │ │ │ │ │ │ │ │ │   │ │ │                           │     └►└─└─ формы                    obj\n",
      "│ │ │ │ │ │ │ │ │ │   │ │ │                           │     │   ┌► таможенного              amod\n",
      "│ │ │ │ │ │ │ │ │ │   │ │ │                           │     └──►└─ контроля                 nmod\n",
      "│ │ │ │ │ │ │ │ │ │   │ │ │           ┌──────────────►│            ,                        punct\n",
      "│ │ │ │ │ │ │ │ │ │   │ │ │           │               └────────►┌─ момент                   nsubj\n",
      "│ │ │ │ │ │ │ │ │ │   │ │ │           │           ┌───────────┌─└► осмотра                  nmod\n",
      "│ │ │ │ │ │ │ │ │ │   │ │ │           │   ┌───────│           └►┌─ контейнеров              nmod\n",
      "│ │ │ │ │ │ │ │ │ │   │ │ │           │   │       │       ┌─────└► МИДК                     appos\n",
      "│ │ │ │ │ │ │ │ │ │   │ │ │           │   │       │       │ ┌────► (                        punct\n",
      "│ │ │ │ │ │ │ │ │ │   │ │ │           │   │       │       │ │ ┌──► мобильные                amod\n",
      "│ │ │ │ │ │ │ │ │ │   │ │ │           │   │       │       │ │ │ ┌► инспекционно-досмотровые amod\n",
      "│ │ │ │ │ │ │ │ │ │   │ │ │         ┌─│   │       │     ┌─└►└─└─└─ комплексы                parataxis\n",
      "│ │ │ │ │ │ │ │ │ │   │ │ │         │ │ ┌►│       │     │          )                        punct\n",
      "│ │ │ │ │ │ │ │ │ │   │ │ │       ┌─│ │ │ │       │     │          смещён                   \n",
      "│ │ │ │ │ │ │ │ │ │   │ │ │ ┌────►│ │ │ │ │       │     │          этапа                    obj\n",
      "│ │ │ │ │ │ │ │ │ │   │ │ │ │     │ │ │ │ │       │     │       ┌► декларирования           nmod\n",
      "│ │ │ │ │ │ │ │ │ │   │ │ │ │ ┌──►│ │ │ │ │   ┌───│     │     ┌─└─ этап                     obj\n",
      "│ │ │ │ │ │ │ │ │ │   │ │ │ │ │   │ │ │ │ │   │   │     │     └──► прибытия                 nmod\n",
      "│ │ │ │ │ │ │ │ │ │   │ │ │ │ │   │ │ │ │ │   │   │     └────────► (                        punct\n",
      "│ │ │ │ │ │ │ │ │ │ ┌►│ │ │ │ │   │ │ │ │ │   │   │                именно                   advmod\n",
      "│ │ │ │ │ │ │ │ │ │ │ │ │ │ │ │   │ │ │ │ │   │   │ ┌────────────► :                        punct\n",
      "│ │ │ │ │ │ │ │ │ │ │ │ │ │ │ │   │ │ │ │ │   │   │ │ ┌──────────► ныне                     advmod\n",
      "│ │ │ │ │ │ │ │ │ │ │ │ │ │ │ │   │ │ │ │ │   │   │ │ │         ┌► 60–70                    nummod\n",
      "│ │ │ │ │ │ │ │ │ │ │ │ │ │ │ │   │ │ │ │ │   │   │ │ │       ┌►└─ %                        nsubj:pass\n",
      "│ │ │ │ │ │ │ │ │ │ │ │ │ │ │ │   │ │ │ │ │   │   └►│ │       │    осмотров                 nmod\n",
      "│ │ │ │ │ │ │ │ │ │ │ │ │ │ │ │   │ │ │ │ │ ┌─│     │ │       └─┌─ проводится               \n",
      "│ │ │ │ │ │ │ │ │ │ │ │ │ │ │ │ ┌►│ │ │ │ │ │ │     │ │         │  именно                   advmod\n",
      "│ │ │ │ │ │ │ │ │ │ │ │ │ │ │ │ │ │ │ │ │ │ │ │   ┌─│ │         └► прибытии                 nsubj:pass\n",
      "│ │ │ │ │ │ │ │ │ │ │ │ │ │ │ │ │ │ │ │ │ │ │ │ ┌─│ │ │         └► контейнеров              nmod\n",
      "│ │ │ │ │ │ │ │ │ │ │ │ │ │ │ │ │ │ │ │ │ └►│ │ │ │ │ │            таможню                  parataxis\n",
      "│ │ │ │ │ │ │ │ │ │ │ │ │ │ │ │ │ │ │ │ │   │ │ │ │ │ │     ┌────► )                        punct\n",
      "│ │ │ │ │ │ │ │ │ │ │ │ │ │ │ │ │ │ │ │ │   │ │ │ │ │ │     │   ┌► ,                        punct\n",
      "│ │ │ │ │ │ │ │ │ │ │ │ │ └►│ │ │ │ │ └─│   │ │ │ │ │ │     │   └─ вопрос                   conj\n",
      "│ │ │ │ │ │ │ │ └►│ │ │ │   │ │ │ │ │   │   │ │ │ │ │ │     │   ┌─ применении               nmod\n",
      "│ │ │ │ │ │ │ │   │ │ │ │   │ │ │ │ │   │   │ │ │ │ │ │ ┌───│ ┌─└► форм                     nmod\n",
      "│ │ │ │ │ │ │ │   │ │ │ │   │ │ │ │ │   │   │ │ │ │ │ │ │   │ └──► контроля                 nmod\n",
      "│ │ │ │ │ │ │ │   │ │ │ │   │ │ │ │ │   │   │ │ │ │ │ │ │   │   ┌► (                        punct\n",
      "│ │ │ │ │ │ │ │   │ │ │ │   │ │ │ │ │   └───│ └►│ │ └─└─│   └─┌─└─ осмотр                   parataxis\n",
      "│ │ │ │ │ │ │ │   │ │ │ │   │ │ │ │ │       │   │ │     │   │ │ ┌► ,                        punct\n",
      "│ │ │ │ │ │ │ │   │ │ │ │   │ │ │ │ │       │   │ │     │   │ └►└─ досмотр                  conj\n",
      "│ │ │ │ │ │ │ │   │ │ │ │   │ │ │ │ │       │   │ │     │   │   ┌► ,                        punct\n",
      "│ │ │ │ │ │ │ │   │ │ │ │   │ │ │ │ │       │   │ │     │   └►┌─└─ наблюдение               conj\n",
      "│ │ │ │ │ │ │ │   │ │ │ │   │ │ │ │ │       │   │ │     │     └──► опрос                    nmod\n",
      "│ │ │ │ │ │ │ │   │ │ │ │   │ │ │ │ └──────►│   │ │     │          )                        punct\n",
      "│ │ │ │ └─│ │ │   └─│ │ └───│ │ │ │         │   │ │     │          решается                 \n",
      "│ │ │ │   │ │ │     │ │     │ │ │ │       ┌►│   │ │     │          ещё                      advmod\n",
      "│ │ │ │   │ │ │     │ │     │ │ │ │       │ └──►│ │     │ ┌─────── выгрузки                 nsubj:pass\n",
      "│ │ │ │   │ │ │     │ │     │ │ │ │       │     │ └────►│ │        товаров                  nmod\n",
      "│ │ │ │   │ │ │     │ │     │ │ │ │       │     └──────►│ │        борта                    nmod\n",
      "│ │ │ │   │ │ │     │ │     │ │ │ │       │             └►│        судна                    nmod\n",
      "│ │ │ │   │ │ │     │ └────►│ │ │ │       │               │        .                        punct\n",
      "│ │ │ │   │ │ │     │       │ │ │ │       │               │     ┌► По                       case\n",
      "│ │ │ │   └─└─└────►│       │ │ │ │       │               │ ┌─┌─└─ замечанию                parataxis\n",
      "│ │ │ │             │       │ │ │ │       │               │ │ │ ┌► информационного          amod\n",
      "│ │ │ │             │       │ │ │ │       │               │ │ └►└─ канала                   nmod\n",
      "│ │ │ │             │       │ │ │ │       │               │ └────► ,                        punct\n",
      "│ │ │ │             │       │ │ │ └──────►│               │   ┌─── начала                   nsubj\n",
      "│ │ │ │             │       │ │ │         │               │   │ ┌► 2023                     amod\n",
      "│ │ │ │             │       │ │ │         │               │   └►└─ года                     nmod\n",
      "│ │ │ │             │       │ │ │         │               │   ┌──► регион                   nsubj\n",
      "│ │ │ │             │       │ │ │         │               └──►│ ┌─ деятельности             nmod\n",
      "│ └►│ │             │       │ │ │         │                   │ │  Владивостокской          amod\n",
      "│   │ │             │       │ │ │         │                   │ └► таможни                  nmod\n",
      "│   │ │             │       └─└─│         │                   └─── ввезли                   \n",
      "│   │ │             │           │         │                     ┌► 94                       nummod\n",
      "│   │ │             │           │         │                   ┌►└─ тысячи                   nummod:gov\n",
      "└──►│ │             │           │         │                 ┌─└─── контейнеров              obj\n",
      "    │ │             │           │         │                 │   ┌► ,                        punct\n",
      "    │ │             │           │         │                 └──►└─ числа                    conj\n",
      "    │ │             │           │         │                 ┌────► порядка                  case\n",
      "    │ │             │           │         │                 │   ┌► 5                        nummod\n",
      "    │ │             │           └─────────└─────────────────│ ┌►└─ тысяч                    nummod\n",
      "    │ │             │                                       │ │ ┌► отсканировано            amod\n",
      "    │ └────────────►└───────────────────────────────────────└─└─└─ помощью                  obj\n",
      "    │                                                         └──► МИДК                     nmod\n",
      "    └────────────────────────────────────────────────────────────► .                        punct\n"
     ]
    }
   ],
   "source": [
    "text = data[3]\n",
    "doc = Doc(text)\n",
    "doc.segment(segmenter)\n",
    "doc.parse_syntax(syntax_parser)\n",
    "doc.tag_morph(morph_tagger)\n",
    "for sentence in doc.sents: # получаем предложения\n",
    "    try:\n",
    "        sentence.syntax.print()\n",
    "    except:\n",
    "        print()"
   ]
  },
  {
   "cell_type": "markdown",
   "metadata": {},
   "source": [
    "# Токенизация"
   ]
  },
  {
   "cell_type": "code",
   "execution_count": 9,
   "metadata": {},
   "outputs": [
    {
     "data": {
      "text/plain": [
       "Doc(text='…И случилось само , иску прокуратуры Тигильского ..., tokens=[...], sents=[...])"
      ]
     },
     "execution_count": 9,
     "metadata": {},
     "output_type": "execute_result"
    }
   ],
   "source": [
    "tokens_arr = []\n",
    "for text in data:\n",
    "    doc = Doc(text)\n",
    "    doc.segment(segmenter)\n",
    "    tokens_arr.append(doc)\n",
    "tokens_arr[1]"
   ]
  },
  {
   "cell_type": "markdown",
   "metadata": {},
   "source": [
    "# Лематизация"
   ]
  },
  {
   "cell_type": "code",
   "execution_count": 10,
   "metadata": {},
   "outputs": [
    {
     "data": {
      "text/plain": [
       "[DocToken(stop=1, text='…', pos='PUNCT', lemma='…'),\n",
       " DocToken(start=1, stop=2, text='И', pos='CCONJ', lemma='и'),\n",
       " DocToken(start=3, stop=12, text='случилось', pos='VERB', feats=<Perf,Neut,Ind,Sing,Past,Fin,Mid>, lemma='случиться'),\n",
       " DocToken(start=13, stop=17, text='само', pos='ADJ', feats=<Nom,Pos,Neut,Sing>, lemma='сам'),\n",
       " DocToken(start=18, stop=19, text=',', pos='PUNCT', lemma=',')]"
      ]
     },
     "execution_count": 10,
     "metadata": {},
     "output_type": "execute_result"
    }
   ],
   "source": [
    "for doc in tokens_arr:\n",
    "    doc.tag_morph(morph_tagger)\n",
    "    for token in doc.tokens:\n",
    "        token.lemmatize(morph_vocab)\n",
    "\n",
    "tokens_arr[1].tokens[:5]\n"
   ]
  },
  {
   "cell_type": "markdown",
   "metadata": {},
   "source": [
    "# Самые популярные пары подлежащих и сказуемых"
   ]
  },
  {
   "cell_type": "code",
   "execution_count": 11,
   "metadata": {},
   "outputs": [],
   "source": [
    "popular = {}\n",
    "for doc in tokens_arr:\n",
    "    doc.parse_syntax(syntax_parser)\n",
    "    for sentence in doc.sents:\n",
    "        root = {}\n",
    "        nsubj = {}\n",
    "\n",
    "        for token in sentence.tokens:\n",
    "            if token.rel == 'root':\n",
    "                root[token.id] = token.lemma\n",
    "            if token.rel == 'nsubj':\n",
    "                nsubj[token.id] = (token.head_id, token.lemma)\n",
    "\n",
    "        for key, value in nsubj.items():\n",
    "            try:\n",
    "               pop = f'{root[value[0]]} + {value[1]}'\n",
    "               if pop not in popular.keys():\n",
    "                   popular[pop] = 0\n",
    "               popular[pop] += 1\n",
    "            except:\n",
    "                continue"
   ]
  },
  {
   "cell_type": "code",
   "execution_count": 12,
   "metadata": {},
   "outputs": [
    {
     "name": "stdout",
     "output_type": "stream",
     "text": [
      "['сообщить + telegram-канал', 'состояться + форум']\n"
     ]
    }
   ],
   "source": [
    "maximum = []\n",
    "m = max(popular.values())\n",
    "for key, value in popular.items():\n",
    "    if value == m or value == m-1:\n",
    "        maximum.append(key)\n",
    "print(maximum)\n"
   ]
  },
  {
   "cell_type": "markdown",
   "metadata": {},
   "source": [
    "# Самые популярные слова"
   ]
  },
  {
   "cell_type": "code",
   "execution_count": 13,
   "metadata": {},
   "outputs": [],
   "source": [
    "popularWord = {}\n",
    "for doc in tokens_arr:\n",
    "    for token in doc.tokens:\n",
    "        if token.rel == 'punct':\n",
    "            continue\n",
    "        if token.lemma not in popularWord.keys():\n",
    "            popularWord[token.lemma] = 0\n",
    "        popularWord[token.lemma] += 1\n"
   ]
  },
  {
   "cell_type": "markdown",
   "metadata": {},
   "source": [
    "# Статистика"
   ]
  },
  {
   "cell_type": "code",
   "execution_count": 14,
   "metadata": {},
   "outputs": [
    {
     "data": {
      "text/html": [
       "<div>\n",
       "<style scoped>\n",
       "    .dataframe tbody tr th:only-of-type {\n",
       "        vertical-align: middle;\n",
       "    }\n",
       "\n",
       "    .dataframe tbody tr th {\n",
       "        vertical-align: top;\n",
       "    }\n",
       "\n",
       "    .dataframe thead th {\n",
       "        text-align: right;\n",
       "    }\n",
       "</style>\n",
       "<table border=\"1\" class=\"dataframe\">\n",
       "  <thead>\n",
       "    <tr style=\"text-align: right;\">\n",
       "      <th></th>\n",
       "      <th>Группа</th>\n",
       "      <th>Количество</th>\n",
       "    </tr>\n",
       "  </thead>\n",
       "  <tbody>\n",
       "    <tr>\n",
       "      <th>67</th>\n",
       "      <td>состояться + форум</td>\n",
       "      <td>10</td>\n",
       "    </tr>\n",
       "    <tr>\n",
       "      <th>24</th>\n",
       "      <td>сообщить + telegram-канал</td>\n",
       "      <td>10</td>\n",
       "    </tr>\n",
       "    <tr>\n",
       "      <th>47</th>\n",
       "      <td>чистый + совесть</td>\n",
       "      <td>5</td>\n",
       "    </tr>\n",
       "    <tr>\n",
       "      <th>53</th>\n",
       "      <td>план + это</td>\n",
       "      <td>5</td>\n",
       "    </tr>\n",
       "    <tr>\n",
       "      <th>52</th>\n",
       "      <td>заявить + итог</td>\n",
       "      <td>5</td>\n",
       "    </tr>\n",
       "    <tr>\n",
       "      <th>...</th>\n",
       "      <td>...</td>\n",
       "      <td>...</td>\n",
       "    </tr>\n",
       "    <tr>\n",
       "      <th>151</th>\n",
       "      <td>нести + арендатор</td>\n",
       "      <td>1</td>\n",
       "    </tr>\n",
       "    <tr>\n",
       "      <th>152</th>\n",
       "      <td>сторона + это</td>\n",
       "      <td>1</td>\n",
       "    </tr>\n",
       "    <tr>\n",
       "      <th>153</th>\n",
       "      <td>сторона + подрядчик</td>\n",
       "      <td>1</td>\n",
       "    </tr>\n",
       "    <tr>\n",
       "      <th>154</th>\n",
       "      <td>сторона + минлесхоз</td>\n",
       "      <td>1</td>\n",
       "    </tr>\n",
       "    <tr>\n",
       "      <th>293</th>\n",
       "      <td>инициировать + банк</td>\n",
       "      <td>1</td>\n",
       "    </tr>\n",
       "  </tbody>\n",
       "</table>\n",
       "<p>294 rows × 2 columns</p>\n",
       "</div>"
      ],
      "text/plain": [
       "                        Группа  Количество\n",
       "67          состояться + форум          10\n",
       "24   сообщить + telegram-канал          10\n",
       "47            чистый + совесть           5\n",
       "53                  план + это           5\n",
       "52              заявить + итог           5\n",
       "..                         ...         ...\n",
       "151          нести + арендатор           1\n",
       "152              сторона + это           1\n",
       "153        сторона + подрядчик           1\n",
       "154        сторона + минлесхоз           1\n",
       "293        инициировать + банк           1\n",
       "\n",
       "[294 rows x 2 columns]"
      ]
     },
     "metadata": {},
     "output_type": "display_data"
    },
    {
     "data": {
      "image/png": "[encoded data removed]",
      "text/plain": [
       "<Figure size 640x480 with 1 Axes>"
      ]
     },
     "metadata": {},
     "output_type": "display_data"
    }
   ],
   "source": [
    "df = pd.DataFrame(popular.items(), columns=['Группа', \"Количество\"])\n",
    "display(df.sort_values(by='Количество', ascending=False))\n",
    "df.plot.bar()\n",
    "plt.show()"
   ]
  },
  {
   "cell_type": "code",
   "execution_count": 15,
   "metadata": {},
   "outputs": [
    {
     "data": {
      "text/html": [
       "<div>\n",
       "<style scoped>\n",
       "    .dataframe tbody tr th:only-of-type {\n",
       "        vertical-align: middle;\n",
       "    }\n",
       "\n",
       "    .dataframe tbody tr th {\n",
       "        vertical-align: top;\n",
       "    }\n",
       "\n",
       "    .dataframe thead th {\n",
       "        text-align: right;\n",
       "    }\n",
       "</style>\n",
       "<table border=\"1\" class=\"dataframe\">\n",
       "  <thead>\n",
       "    <tr style=\"text-align: right;\">\n",
       "      <th></th>\n",
       "      <th>0</th>\n",
       "      <th>1</th>\n",
       "    </tr>\n",
       "  </thead>\n",
       "  <tbody>\n",
       "    <tr>\n",
       "      <th>52</th>\n",
       "      <td>год</td>\n",
       "      <td>88</td>\n",
       "    </tr>\n",
       "    <tr>\n",
       "      <th>45</th>\n",
       "      <td>компания</td>\n",
       "      <td>84</td>\n",
       "    </tr>\n",
       "    <tr>\n",
       "      <th>15</th>\n",
       "      <td>приморский</td>\n",
       "      <td>70</td>\n",
       "    </tr>\n",
       "    <tr>\n",
       "      <th>16</th>\n",
       "      <td>край</td>\n",
       "      <td>66</td>\n",
       "    </tr>\n",
       "    <tr>\n",
       "      <th>122</th>\n",
       "      <td>который</td>\n",
       "      <td>56</td>\n",
       "    </tr>\n",
       "    <tr>\n",
       "      <th>...</th>\n",
       "      <td>...</td>\n",
       "      <td>...</td>\n",
       "    </tr>\n",
       "    <tr>\n",
       "      <th>1319</th>\n",
       "      <td>нашуметь</td>\n",
       "      <td>1</td>\n",
       "    </tr>\n",
       "    <tr>\n",
       "      <th>1320</th>\n",
       "      <td>разом</td>\n",
       "      <td>1</td>\n",
       "    </tr>\n",
       "    <tr>\n",
       "      <th>1321</th>\n",
       "      <td>потерять</td>\n",
       "      <td>1</td>\n",
       "    </tr>\n",
       "    <tr>\n",
       "      <th>1322</th>\n",
       "      <td>всякий</td>\n",
       "      <td>1</td>\n",
       "    </tr>\n",
       "    <tr>\n",
       "      <th>2081</th>\n",
       "      <td>взаимодействовать</td>\n",
       "      <td>1</td>\n",
       "    </tr>\n",
       "  </tbody>\n",
       "</table>\n",
       "<p>2082 rows × 2 columns</p>\n",
       "</div>"
      ],
      "text/plain": [
       "                      0   1\n",
       "52                  год  88\n",
       "45             компания  84\n",
       "15           приморский  70\n",
       "16                 край  66\n",
       "122             который  56\n",
       "...                 ...  ..\n",
       "1319           нашуметь   1\n",
       "1320              разом   1\n",
       "1321           потерять   1\n",
       "1322             всякий   1\n",
       "2081  взаимодействовать   1\n",
       "\n",
       "[2082 rows x 2 columns]"
      ]
     },
     "metadata": {},
     "output_type": "display_data"
    },
    {
     "data": {
      "image/png": "[encoded data removed]",
      "text/plain": [
       "<Figure size 640x480 with 1 Axes>"
      ]
     },
     "metadata": {},
     "output_type": "display_data"
    }
   ],
   "source": [
    "df = pd.DataFrame(popularWord.items())\n",
    "display(df.sort_values(by=1, ascending=False))\n",
    "df.plot.bar()\n",
    "plt.show()"
   ]
  },
  {
   "cell_type": "markdown",
   "metadata": {},
   "source": [
    "Данные статьи, судя по статистике, являются экономически-политичсекими новостями Приморского края. Отсюда и закономерность, что сочетание \"форум состояться\" встречается чаще всего. \n",
    "С точки зрения предметной области моей деятельности (SEO-специалист), я могу отметить, что данный способ выделения популярных фраз позволяет выделить фразы, которые помогают продвижению сайта, что поможет использовать те же фишки и слова в своей деятельности. \n",
    "При этом, за исключением слов-ключей, в основном они не повторяются, за исключением географических и \"кричащих\" слов."
   ]
  }
 ],
 "metadata": {
  "kernelspec": {
   "display_name": "venv",
   "language": "python",
   "name": "python3"
  },
  "language_info": {
   "codemirror_mode": {
    "name": "ipython",
    "version": 3
   },
   "file_extension": ".py",
   "mimetype": "text/x-python",
   "name": "python",
   "nbconvert_exporter": "python",
   "pygments_lexer": "ipython3",
   "version": "3.9.13"
  }
 },
 "nbformat": 4,
 "nbformat_minor": 2
}
